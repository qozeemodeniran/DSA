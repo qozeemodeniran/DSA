{
 "cells": [
  {
   "cell_type": "code",
   "execution_count": null,
   "metadata": {},
   "outputs": [],
   "source": [
    "# Python program to print all permutations using\n",
    "# Heap's algorithm\n",
    "\n",
    "# Generating permutation using Heap Algorithm\n",
    "def heapPermutation(a, size):\n",
    "    # if size becomes 1 then prints the obtained\n",
    "    # permutation\n",
    "    if size == 1:\n",
    "        print(a)\n",
    "        return\n",
    "\n",
    "    for i in range(size):\n",
    "        heapPermutation(a, size-1)\n",
    "\n",
    "        # if size is odd, swap 0th i.e (first)\n",
    "        # and (size-1)th i.e (last) element\n",
    "        # else If size is even, swap ith\n",
    "        # and (size-1)th i.e (last) element\n",
    "        if size & 1:\n",
    "            a[0], a[size-1] = a[size-1], a[0]\n",
    "        else:\n",
    "            a[i], a[size-1] = a[size-1], a[i]\n",
    "\n",
    "# Dynamic size input\n",
    "size = int(input(\"Enter the size of the array: \"))\n",
    "# size = 40\n",
    "a = [i+1 for i in range(size)]\n",
    "heapPermutation(a, size)"
   ]
  }
 ],
 "metadata": {
  "kernelspec": {
   "display_name": "Python 3",
   "language": "python",
   "name": "python3"
  },
  "language_info": {
   "codemirror_mode": {
    "name": "ipython",
    "version": 3
   },
   "file_extension": ".py",
   "mimetype": "text/x-python",
   "name": "python",
   "nbconvert_exporter": "python",
   "pygments_lexer": "ipython3",
   "version": "3.10.9"
  },
  "orig_nbformat": 4,
  "vscode": {
   "interpreter": {
    "hash": "aee8b7b246df8f9039afb4144a1f6fd8d2ca17a180786b69acc140d282b71a49"
   }
  }
 },
 "nbformat": 4,
 "nbformat_minor": 2
}
